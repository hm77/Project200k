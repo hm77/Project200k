{
 "cells": [
  {
   "cell_type": "markdown",
   "metadata": {},
   "source": [
    "# MAY 21, 2018\n",
    "\n",
    "## Question 1:\n",
    "\n",
    "You are given two non-empty linked lists representing two non-negative integers.\n",
    "The digits are stored in reverse order and each of their nodes contain a single digit.\n",
    "Add the two numbers and return it as a linked list.\n",
    "\n",
    "You may assume the two numbers do not contain any leading zero, except the number 0 itself.\n",
    "\n",
    "Example\n",
    "\n",
    "Input: (2 -> 4 -> 3) + (5 -> 6 -> 4)\n",
    "Output: 7 -> 0 -> 8\n",
    "Explanation: 342 + 465 = 807."
   ]
  },
  {
   "cell_type": "markdown",
   "metadata": {},
   "source": [
    "###### SOLUTION 1: Longer code but better runtime"
   ]
  },
  {
   "cell_type": "code",
   "execution_count": 9,
   "metadata": {},
   "outputs": [],
   "source": [
    "# Definition for singly-linked list.\n",
    "# class ListNode(object):\n",
    "#     def __init__(self, x):\n",
    "#         self.val = x\n",
    "#         self.next = None\n",
    "\n",
    "class Solution(object):\n",
    "    def addTwoNumbers(self, l1, l2):\n",
    "        \"\"\"\n",
    "        :type l1: ListNode\n",
    "        :type l2: ListNode\n",
    "        :rtype: ListNode\n",
    "        \"\"\"\n",
    "        if l1==None and l2==None:\n",
    "            return None\n",
    "        carry = 0\n",
    "        output = []\n",
    "        while(l1!=None and l2!= None):\n",
    "            total, carry = self.get_sum_and_carry(l1.val,l2.val, carry)\n",
    "            l1 = l1.next\n",
    "            l2 = l2.next\n",
    "            output.append(total)\n",
    "        \n",
    "        if l1==None:\n",
    "            while(l2!=None):\n",
    "                total, carry = self.get_sum_and_carry(l2.val, carry, 0)\n",
    "                output.append(total)\n",
    "                l2 = l2.next\n",
    "        else:\n",
    "            while(l1!=None):\n",
    "                total, carry = self.get_sum_and_carry(l1.val, carry, 0)\n",
    "                output.append(total)\n",
    "                l1=l1.next\n",
    "        if carry>0:\n",
    "            output.append(carry)\n",
    "        return self.list_to_linked_list(output)\n",
    "        \n",
    "    def get_sum_and_carry(self, a,b,c):\n",
    "        #will only work for sum of 2 numbers.\n",
    "        if (a+b+c)>9:\n",
    "            return ((a+b+c)-10),1\n",
    "        else:\n",
    "            return (a+b+c), 0\n",
    "        \n",
    "    def list_to_linked_list(self, l):\n",
    "        if len(l)==0:\n",
    "            l=[0]\n",
    "        last_node = ListNode(l[-1])\n",
    "        last_node.next = None\n",
    "        node=None\n",
    "        for each in reversed(l[:-1]):\n",
    "            node = ListNode(each)\n",
    "            node.next = last_node\n",
    "            last_node = node\n",
    "        if node == None:\n",
    "            return last_node\n",
    "        return node\n",
    "        "
   ]
  },
  {
   "cell_type": "markdown",
   "metadata": {},
   "source": [
    "#### Solution 2: Shorter code but slow"
   ]
  },
  {
   "cell_type": "code",
   "execution_count": 10,
   "metadata": {},
   "outputs": [],
   "source": [
    "# Definition for singly-linked list.\n",
    "# class ListNode(object):\n",
    "#     def __init__(self, x):\n",
    "#         self.val = x\n",
    "#         self.next = None\n",
    "\n",
    "class Solution(object):\n",
    "    def addTwoNumbers(self, l1, l2):\n",
    "        \"\"\"\n",
    "        :type l1: ListNode\n",
    "        :type l2: ListNode\n",
    "        :rtype: ListNode\n",
    "        \"\"\"\n",
    "        carry = 0\n",
    "        return_list = ListNode(0)\n",
    "        temp = return_list\n",
    "        while(l1!=None or l2!=None):\n",
    "            a = l1.val if l1!=None else 0\n",
    "            b = l2.val if l2!=None else 0\n",
    "            total = a + b + carry\n",
    "            digit = total % 10 if total > 9 else total\n",
    "            carry = total//10 if total>9 else 0\n",
    "            temp.next = ListNode(digit)\n",
    "            temp = temp.next\n",
    "            l1 = l1.next if l1!=None else None\n",
    "            l2 = l2.next if l2!=None else None\n",
    "        if carry>0:\n",
    "            temp.next = ListNode(carry)\n",
    "        return return_list.next"
   ]
  },
  {
   "cell_type": "markdown",
   "metadata": {},
   "source": [
    "## Question 2:"
   ]
  },
  {
   "cell_type": "markdown",
   "metadata": {},
   "source": [
    "Given n non-negative integers a1, a2, ..., an, where each represents a point at coordinate (i, ai). n vertical lines are drawn such that the two endpoints of line i is at (i, ai) and (i, 0). Find two lines, which together with x-axis forms a container, such that the container contains the most water.\n",
    "\n",
    "Note: You may not slant the container and n is at least 2."
   ]
  },
  {
   "cell_type": "markdown",
   "metadata": {},
   "source": [
    "possible inputs\n",
    "\n",
    "[2,3,4,1,3,2,6]\n",
    "\n",
    "[4,3,6,2,9,4,5]\n",
    "\n",
    "* conatiner should be formed between lines far apart to maximize the area.\n",
    "* area of the container is determined by the smaller wall or line.\n"
   ]
  },
  {
   "cell_type": "code",
   "execution_count": 22,
   "metadata": {},
   "outputs": [],
   "source": [
    "class Solution(object):\n",
    "    def maxArea(self, height):\n",
    "        \"\"\"\n",
    "        :type height: List[int]\n",
    "        :rtype: int\n",
    "        \"\"\"\n",
    "        i, j = 0, len(height)-1\n",
    "        max_sum = -1\n",
    "        while (i<j):\n",
    "            max_sum = max(min(height[i],height[j])*(j-i), max_sum)\n",
    "            if height[i]<=height[j]:\n",
    "                i = i+1 \n",
    "            else:\n",
    "                j = j-1 \n",
    "        return max_sum\n",
    "            "
   ]
  },
  {
   "cell_type": "code",
   "execution_count": 23,
   "metadata": {},
   "outputs": [
    {
     "data": {
      "text/plain": [
       "36"
      ]
     },
     "execution_count": 23,
     "metadata": {},
     "output_type": "execute_result"
    }
   ],
   "source": [
    "s = Solution()\n",
    "s.maxArea([2,3,10,5,7,8,9])"
   ]
  },
  {
   "cell_type": "code",
   "execution_count": null,
   "metadata": {},
   "outputs": [],
   "source": []
  }
 ],
 "metadata": {
  "kernelspec": {
   "display_name": "Python 3",
   "language": "python",
   "name": "python3"
  },
  "language_info": {
   "codemirror_mode": {
    "name": "ipython",
    "version": 3
   },
   "file_extension": ".py",
   "mimetype": "text/x-python",
   "name": "python",
   "nbconvert_exporter": "python",
   "pygments_lexer": "ipython3",
   "version": "3.6.0"
  }
 },
 "nbformat": 4,
 "nbformat_minor": 2
}
